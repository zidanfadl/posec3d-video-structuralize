{
 "cells": [
  {
   "cell_type": "code",
   "execution_count": 1,
   "id": "speaking-algebra",
   "metadata": {},
   "outputs": [],
   "source": [
    "\n",
    "import cv2\n",
    "\n",
    "\n",
    "\n",
    "import numpy as np\n",
    "\n",
    "import moviepy.editor as mpy\n",
    "\n",
    "from mmengine import load\n",
    "\n",
    "from mmaction.datasets import (CenterCrop,\n",
    "                               GeneratePoseTarget,\n",
    "                               PoseCompact, PoseDecode,\n",
    "                               Resize)"
   ]
  },
  {
   "cell_type": "code",
   "execution_count": 2,
   "id": "alive-consolidation",
   "metadata": {},
   "outputs": [],
   "source": [
    "FONTFACE = cv2.FONT_HERSHEY_DUPLEX\n",
    "FONTSCALE = 0.6\n",
    "FONTCOLOR = (255, 255, 255)\n",
    "BGBLUE = (0, 119, 182)\n",
    "THICKNESS = 1\n",
    "LINETYPE = 1"
   ]
  },
  {
   "cell_type": "code",
   "execution_count": 3,
   "id": "ranging-conjunction",
   "metadata": {},
   "outputs": [],
   "source": [
    "def add_label(frame, label, BGCOLOR=BGBLUE):\n",
    "    threshold = 30\n",
    "    def split_label(label):\n",
    "        label = label.split()\n",
    "        lines, cline = [], ''\n",
    "        for word in label:\n",
    "            if len(cline) + len(word) < threshold:\n",
    "                cline = cline + ' ' + word\n",
    "            else:\n",
    "                lines.append(cline)\n",
    "                cline = word\n",
    "        if cline != '':\n",
    "            lines += [cline]\n",
    "        return lines\n",
    "    \n",
    "    if len(label) > 30:\n",
    "        label = split_label(label)\n",
    "    else:\n",
    "        label = [label]\n",
    "    label = ['Action: '] + label\n",
    "    \n",
    "    sizes = []\n",
    "    for line in label:\n",
    "        sizes.append(cv2.getTextSize(line, FONTFACE, FONTSCALE, THICKNESS)[0])\n",
    "    box_width = max([x[0] for x in sizes]) + 10\n",
    "    text_height = sizes[0][1]\n",
    "    box_height = len(sizes) * (text_height + 6)\n",
    "    \n",
    "    cv2.rectangle(frame, (0, 0), (box_width, box_height), BGCOLOR, -1)\n",
    "    for i, line in enumerate(label):\n",
    "        location = (5, (text_height + 6) * i + text_height + 3)\n",
    "        cv2.putText(frame, line, location, FONTFACE, FONTSCALE, FONTCOLOR, THICKNESS, LINETYPE)\n",
    "    return frame"
   ]
  },
  {
   "cell_type": "code",
   "execution_count": 4,
   "id": "42e9ea6b-40f1-489a-909e-e62b2cbe73f1",
   "metadata": {},
   "outputs": [],
   "source": [
    "# get_pseudo_heatmap\n",
    "keypoint_pipeline = [\n",
    "    dict(type=PoseDecode),\n",
    "    dict(type=PoseCompact, hw_ratio=1., allow_imgpad=True),\n",
    "    dict(type=Resize, scale=(-1, 64)),\n",
    "    dict(type=CenterCrop, crop_size=64),\n",
    "    dict(type=GeneratePoseTarget, sigma=0.6, use_score=True, with_kp=True, with_limb=False)\n",
    "]\n",
    "\n",
    "limb_pipeline = [\n",
    "    dict(type=PoseDecode),\n",
    "    dict(type=PoseCompact, hw_ratio=1., allow_imgpad=True),\n",
    "    dict(type=Resize, scale=(-1, 64)),\n",
    "    dict(type=CenterCrop, crop_size=64),\n",
    "    dict(type=GeneratePoseTarget, sigma=0.6, use_score=True, with_kp=False, with_limb=True)\n",
    "]"
   ]
  },
  {
   "cell_type": "code",
   "execution_count": 5,
   "id": "applied-humanity",
   "metadata": {},
   "outputs": [],
   "source": [
    "from mmengine.dataset import Compose\n",
    "def get_pseudo_heatmap(anno, flag='keypoint'):\n",
    "    assert flag in ['keypoint', 'limb']\n",
    "    pipeline = Compose(keypoint_pipeline if flag == 'keypoint' else limb_pipeline)\n",
    "    return pipeline(anno)['imgs']\n",
    "\n",
    "def vis_heatmaps(heatmaps, channel=-1, ratio=8):\n",
    "    import matplotlib.cm as cm\n",
    "    \n",
    "    if ( 0 <= channel <= heatmaps.shape[1]-1 ):\n",
    "        heatmaps = [heatmaps[x][channel] for x in range(heatmaps.shape[0])]\n",
    "    else:  # draw all keypoints / limbs on the same map\n",
    "        heatmaps = [np.max(x, axis=0) for x in heatmaps]\n",
    "    \n",
    "    h, w = heatmaps[0].shape    \n",
    "    newh, neww = int(h * ratio), int(w * ratio)\n",
    "    \n",
    "    cmap = cm.viridis\n",
    "    heatmaps = [(cmap(x)[..., :3] * 255).astype(np.uint8) for x in heatmaps]\n",
    "\n",
    "    heatmaps = [cv2.resize(x, (neww, newh)) for x in heatmaps]\n",
    "    return heatmaps"
   ]
  },
  {
   "cell_type": "markdown",
   "id": "0a7f3ed4-114c-47be-a6f3-f3d4ecd1b7a4",
   "metadata": {},
   "source": [
    "## Visualize CIIS Heatmap Volume"
   ]
  },
  {
   "cell_type": "code",
   "execution_count": 6,
   "id": "2f6449ae-5f3d-4f4c-9426-02343dee30c4",
   "metadata": {},
   "outputs": [],
   "source": [
    "ciis_ann_file = 'data/skeleton/ciis_0s5_v3.pkl'"
   ]
  },
  {
   "cell_type": "code",
   "execution_count": 7,
   "id": "871a345e-b676-414c-8fda-70b8fc57d46c",
   "metadata": {},
   "outputs": [],
   "source": [
    "ciis_categories = ['berdiri', 'berjalan', 'berjongkok', 'merayap', 'melempar', 'membidik senapan', \n",
    "                  'membidik pistol', 'memukul', 'menendang', 'menusuk']\n",
    "ciis_annos = load(ciis_ann_file)"
   ]
  },
  {
   "cell_type": "code",
   "execution_count": 8,
   "id": "19d0ebe8-e260-49e6-93a0-ef955002934f",
   "metadata": {},
   "outputs": [
    {
     "name": "stdout",
     "output_type": "stream",
     "text": [
      "Max Index is 2024\n"
     ]
    }
   ],
   "source": [
    "# visualize pose of which clip sub split? 'xsub_train' / 'xsub_val'\n",
    "sub_split = 'xsub_train'\n",
    "\n",
    "print(\"Max Index is\", len(ciis_annos['split'][sub_split]))"
   ]
  },
  {
   "cell_type": "code",
   "execution_count": 9,
   "id": "0b925dbc-7a0a-481e-806f-ad1d03e33e0b",
   "metadata": {},
   "outputs": [
    {
     "name": "stdout",
     "output_type": "stream",
     "text": [
      "Selected Clip is 50d_2s2_34.001_0\n"
     ]
    }
   ],
   "source": [
    "# visualize pose of which clip? index in 0 - Max Index.\n",
    "idx = 0\n",
    "print(\"Selected Clip is\", ciis_annos['split'][sub_split][idx])"
   ]
  },
  {
   "cell_type": "code",
   "execution_count": 10,
   "id": "6c55ad6d-4c0a-456a-a7b8-437dcffcefad",
   "metadata": {},
   "outputs": [],
   "source": [
    "frame_dir = ciis_annos['split'][sub_split][idx]  # <video_ID>_frameID.personID_dataID\n",
    "\n",
    "anno = [x for x in ciis_annos['annotations'] if x['frame_dir'] == frame_dir][0]"
   ]
  },
  {
   "cell_type": "code",
   "execution_count": 11,
   "id": "91f9bea0-5687-445f-9147-3678217603b9",
   "metadata": {},
   "outputs": [
    {
     "name": "stdout",
     "output_type": "stream",
     "text": [
      "(4, 17, 64, 64)\n",
      "\n",
      "Length of clip is 4 frames\n",
      "\n",
      "Moviepy - Building video __temp__.mp4.\n",
      "Moviepy - Writing video __temp__.mp4\n",
      "\n"
     ]
    },
    {
     "name": "stderr",
     "output_type": "stream",
     "text": [
      "                                                                                                     "
     ]
    },
    {
     "name": "stdout",
     "output_type": "stream",
     "text": [
      "Moviepy - Done !\n",
      "Moviepy - video ready __temp__.mp4\n"
     ]
    },
    {
     "name": "stderr",
     "output_type": "stream",
     "text": [
      "\r"
     ]
    },
    {
     "data": {
      "text/html": [
       "<div align=middle><video src='data:video/mp4;base64,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' controls>Sorry, seems like your browser doesn't support HTML5 audio/video</video></div>"
      ],
      "text/plain": [
       "<moviepy.video.io.html_tools.HTML2 object>"
      ]
     },
     "execution_count": 11,
     "metadata": {},
     "output_type": "execute_result"
    }
   ],
   "source": [
    "keypoint_heatmap = get_pseudo_heatmap(anno)\n",
    "keypoint_mapvis = vis_heatmaps(keypoint_heatmap, channel=-1)\n",
    "keypoint_mapvis = [add_label(f, ciis_categories[anno['label']]) for f in keypoint_mapvis]\n",
    "vid = mpy.ImageSequenceClip(keypoint_mapvis, fps=12)\n",
    "\n",
    "# CHECK ndarray.shape, RESTART KERNEL if ERROR!\n",
    "print(keypoint_heatmap.shape)  # frames X kpts X width X heighs\n",
    "\n",
    "print(\"\\nLength of clip is\", keypoint_heatmap.shape[0], \"frames\\n\")  # frames X kpts X width X heighs\n",
    "vid.ipython_display()"
   ]
  }
 ],
 "metadata": {
  "kernelspec": {
   "display_name": "Python 3 (ipykernel)",
   "language": "python",
   "name": "python3"
  },
  "language_info": {
   "codemirror_mode": {
    "name": "ipython",
    "version": 3
   },
   "file_extension": ".py",
   "mimetype": "text/x-python",
   "name": "python",
   "nbconvert_exporter": "python",
   "pygments_lexer": "ipython3",
   "version": "3.8.18"
  }
 },
 "nbformat": 4,
 "nbformat_minor": 5
}
