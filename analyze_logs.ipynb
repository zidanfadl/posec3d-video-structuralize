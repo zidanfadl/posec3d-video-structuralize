{
 "cells": [
  {
   "cell_type": "code",
   "execution_count": 1,
   "id": "04f6b28c-ab86-4a78-ab5b-f10f244dc206",
   "metadata": {},
   "outputs": [],
   "source": [
    "logFolder = \"ciis_not-multi_10_best-550\"\n",
    "jsonFile = \"lr-0d0482_loss-0d0099_top1-0d9072_top5-0d9894_mean1-0d9003\""
   ]
  },
  {
   "cell_type": "code",
   "execution_count": 2,
   "id": "a8af4c13-fb20-4eca-b967-cf35177da6df",
   "metadata": {
    "scrolled": true
   },
   "outputs": [
    {
     "name": "stdout",
     "output_type": "stream",
     "text": [
      "plot curve of work_dirs/ciis_not-multi_10_best-550/lr-0d0482_loss-0d0099_top1-0d9072_top5-0d9894_mean1-0d9003.json, metric is loss\n",
      "save curve to: work_dirs/ciis_not-multi_10_best-550/best-550_loss-0d0099.svg\n"
     ]
    }
   ],
   "source": [
    "!python mmaction2/tools/analysis_tools/analyze_logs.py plot_curve work_dirs/{logFolder}/{jsonFile + \".json\"} \\\n",
    "    --keys loss \\\n",
    "    --title \"loss terhadap epoch\" \\\n",
    "    --out work_dirs/{logFolder}/{(logFolder.split(\"_\"))[-1]}_{(jsonFile.split(\"_\"))[1]}.svg"
   ]
  },
  {
   "cell_type": "code",
   "execution_count": 3,
   "id": "6b6ac93c-8cdc-471e-87f4-bf47fda87802",
   "metadata": {},
   "outputs": [
    {
     "name": "stdout",
     "output_type": "stream",
     "text": [
      "plot curve of work_dirs/ciis_not-multi_10_best-550/lr-0d0482_loss-0d0099_top1-0d9072_top5-0d9894_mean1-0d9003.json, metric is acc/top1\n",
      "save curve to: work_dirs/ciis_not-multi_10_best-550/best-550_top1-0d9072.svg\n"
     ]
    }
   ],
   "source": [
    "!python mmaction2/tools/analysis_tools/analyze_logs.py plot_curve work_dirs/{logFolder}/{jsonFile + \".json\"} \\\n",
    "    --keys acc/top1 \\\n",
    "    --title \"akurasi top-1 terhadap checkpoint\" \\\n",
    "    --out work_dirs/{logFolder}/{(logFolder.split(\"_\"))[-1]}_{(jsonFile.split(\"_\"))[2]}.svg"
   ]
  },
  {
   "cell_type": "code",
   "execution_count": 4,
   "id": "bf676746-b42e-4591-bfda-42dde6f5ba69",
   "metadata": {},
   "outputs": [
    {
     "name": "stdout",
     "output_type": "stream",
     "text": [
      "plot curve of work_dirs/ciis_not-multi_10_best-550/lr-0d0482_loss-0d0099_top1-0d9072_top5-0d9894_mean1-0d9003.json, metric is acc/top5\n",
      "save curve to: work_dirs/ciis_not-multi_10_best-550/best-550_top5-0d9894.svg\n"
     ]
    }
   ],
   "source": [
    "!python mmaction2/tools/analysis_tools/analyze_logs.py plot_curve work_dirs/{logFolder}/{jsonFile + \".json\"} \\\n",
    "    --keys acc/top5 \\\n",
    "    --title \"akurasi top-5 terhadap checkpoint\" \\\n",
    "    --out work_dirs/{logFolder}/{(logFolder.split(\"_\"))[-1]}_{(jsonFile.split(\"_\"))[3]}.svg"
   ]
  },
  {
   "cell_type": "code",
   "execution_count": 5,
   "id": "69a69d22-7a85-48cc-b5f7-a1f90ad2709d",
   "metadata": {},
   "outputs": [
    {
     "name": "stdout",
     "output_type": "stream",
     "text": [
      "plot curve of work_dirs/ciis_not-multi_10_best-550/lr-0d0482_loss-0d0099_top1-0d9072_top5-0d9894_mean1-0d9003.json, metric is acc/mean1\n",
      "save curve to: work_dirs/ciis_not-multi_10_best-550/best-550_mean1-0d9003.svg\n"
     ]
    }
   ],
   "source": [
    "!python mmaction2/tools/analysis_tools/analyze_logs.py plot_curve work_dirs/{logFolder}/{jsonFile + \".json\"} \\\n",
    "    --keys acc/mean1 \\\n",
    "    --title \"akurasi rata-rata terhadap checkpoint\" \\\n",
    "    --out work_dirs/{logFolder}/{(logFolder.split(\"_\"))[-1]}_{(jsonFile.split(\"_\"))[4]}.svg"
   ]
  },
  {
   "cell_type": "code",
   "execution_count": 6,
   "id": "4f63e8c8-1221-4e48-88b2-83a8fb485e2e",
   "metadata": {},
   "outputs": [
    {
     "name": "stdout",
     "output_type": "stream",
     "text": [
      "plot curve of work_dirs/ciis_not-multi_10_best-550/lr-0d0482_loss-0d0099_top1-0d9072_top5-0d9894_mean1-0d9003.json, metric is lr\n",
      "save curve to: work_dirs/ciis_not-multi_10_best-550/best-550_lr-0d0482.svg\n"
     ]
    }
   ],
   "source": [
    "!python mmaction2/tools/analysis_tools/analyze_logs.py plot_curve work_dirs/{logFolder}/{jsonFile + \".json\"} \\\n",
    "    --keys lr \\\n",
    "    --title \"lr terhadap epoch\" \\\n",
    "    --out work_dirs/{logFolder}/{(logFolder.split(\"_\"))[-1]}_{(jsonFile.split(\"_\"))[0]}.svg"
   ]
  },
  {
   "cell_type": "code",
   "execution_count": null,
   "id": "4c79ef1a-8bd8-4cf6-88fe-25f5471d78e1",
   "metadata": {},
   "outputs": [],
   "source": []
  }
 ],
 "metadata": {
  "kernelspec": {
   "display_name": "Python 3 (ipykernel)",
   "language": "python",
   "name": "python3"
  },
  "language_info": {
   "codemirror_mode": {
    "name": "ipython",
    "version": 3
   },
   "file_extension": ".py",
   "mimetype": "text/x-python",
   "name": "python",
   "nbconvert_exporter": "python",
   "pygments_lexer": "ipython3",
   "version": "3.8.18"
  }
 },
 "nbformat": 4,
 "nbformat_minor": 5
}
